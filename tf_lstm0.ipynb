{
  "cells": [
    {
      "cell_type": "code",
      "execution_count": 1,
      "metadata": {
        "id": "a5ED-LFbNBXx"
      },
      "outputs": [],
      "source": [
        "import numpy as np\n",
        "import scipy\n",
        "import scipy.io"
      ]
    },
    {
      "cell_type": "code",
      "execution_count": 2,
      "metadata": {
        "colab": {
          "base_uri": "https://localhost:8080/",
          "height": 280
        },
        "id": "yZYO0AWpNBXz",
        "outputId": "88315a82-af2c-40e1-c75a-d1103b04a0a6"
      },
      "outputs": [],
      "source": [
        "sax_rate, sax = scipy.io.wavfile.read('sax.wav')\n",
        "mix_rate, mix = scipy.io.wavfile.read('mix.wav')"
      ]
    },
    {
      "cell_type": "code",
      "execution_count": 3,
      "metadata": {
        "id": "AVyGDsa6NBXz"
      },
      "outputs": [],
      "source": [
        "mono_sax = np.empty((250000),np.float32)\n",
        "mono_mix = np.empty((250000),np.float32)\n",
        "for i in range(mono_sax.size):\n",
        "    mono_sax[i] = round((sax[i][0]+sax[i][1])/2)\n",
        "    mono_mix[i] = mix[i]\n",
        "del sax\n",
        "del mix"
      ]
    },
    {
      "cell_type": "code",
      "execution_count": 4,
      "metadata": {
        "id": "SWro2_7ENBXz"
      },
      "outputs": [],
      "source": [
        "class My_Scaler:\n",
        "    def __init__(self, min, max, a, b):\n",
        "        self.a = a\n",
        "        self.b = b\n",
        "        self.min = min\n",
        "        self.max = max\n",
        "\n",
        "    def transform(self, input):\n",
        "        return ((self.b-self.a)*((input-self.min)/(self.max-self.min)))+self.a\n",
        "\n",
        "    def inverse_transform(self,input):\n",
        "        return ((self.max - self.min)*((input+self.b)/(self.b-self.a))+self.min)"
      ]
    },
    {
      "cell_type": "code",
      "execution_count": 5,
      "metadata": {
        "id": "LMoCF4_qNBX0"
      },
      "outputs": [],
      "source": [
        "min = mono_mix.min()\n",
        "if mono_sax.min() < min:\n",
        "    min = mono_sax.min()\n",
        "max = mono_mix.max()\n",
        "if mono_sax.max() > max:\n",
        "    max = mono_sax.max()\n",
        "scaler = My_Scaler(min,max,-1,1)"
      ]
    },
    {
      "cell_type": "code",
      "execution_count": 6,
      "metadata": {
        "id": "Vz-_XrijNBX0"
      },
      "outputs": [],
      "source": [
        "x = scaler.transform(mono_mix)\n",
        "y = scaler.transform(mono_sax)"
      ]
    },
    {
      "cell_type": "code",
      "execution_count": 7,
      "metadata": {
        "id": "1AGVm924NBX0"
      },
      "outputs": [],
      "source": [
        "encoding = 128\n",
        "seq_len = 128"
      ]
    },
    {
      "cell_type": "code",
      "execution_count": 8,
      "metadata": {
        "id": "9Q9wUKEeNBX0"
      },
      "outputs": [],
      "source": [
        "data = np.empty([250000,2],np.float32)\n",
        "\n",
        "for i in range(data.shape[0]):\n",
        "    data[i][0] = x[i]\n",
        "    data[i][1] = y[i]"
      ]
    },
    {
      "cell_type": "code",
      "execution_count": 9,
      "metadata": {
        "id": "IZRmnd8YNBX1"
      },
      "outputs": [],
      "source": [
        "import torch\n",
        "from torchaudio.functional import mu_law_encoding, mu_law_decoding\n",
        "data=mu_law_encoding(torch.from_numpy(data),encoding)"
      ]
    },
    {
      "cell_type": "code",
      "execution_count": 11,
      "metadata": {
        "id": "lE2M2OzlNBX1"
      },
      "outputs": [],
      "source": [
        "class TimesereisDataset(torch.utils.data.Dataset):\n",
        "    def __init__(self, data, seq_len=128):\n",
        "        super().__init__()\n",
        "        self.data=data\n",
        "        self.seq_len=seq_len\n",
        "\n",
        "    def __len__(self):\n",
        "        return 250000-(self.seq_len)\n",
        "\n",
        "    def __getitem__(self,index):\n",
        "        x=self.data[index:index+self.seq_len,0]\n",
        "        y=self.data[index+self.seq_len,1]\n",
        "        return x,y"
      ]
    },
    {
      "cell_type": "code",
      "execution_count": 12,
      "metadata": {
        "id": "XzzvDLzYNBX1"
      },
      "outputs": [],
      "source": [
        "data = data.numpy()"
      ]
    },
    {
      "cell_type": "code",
      "execution_count": 13,
      "metadata": {
        "id": "ZW6DZDLYNBX2"
      },
      "outputs": [],
      "source": [
        "one_hot_data = []\n",
        "for i in range(data.shape[0]):\n",
        "    x_hot = np.zeros(encoding)\n",
        "    y_hot = np.zeros(encoding)\n",
        "    x_hot[data[i][0]] = 1.0\n",
        "    y_hot[data[i][1]] = 1.0\n",
        "    one_hot_data.append((x_hot,y_hot))\n",
        "one_hot_data = np.array(one_hot_data)"
      ]
    },
    {
      "cell_type": "code",
      "execution_count": 14,
      "metadata": {
        "id": "E6BkEGvBNBX2"
      },
      "outputs": [],
      "source": [
        "timeSeriesDataset = TimesereisDataset(one_hot_data,seq_len)"
      ]
    },
    {
      "cell_type": "code",
      "execution_count": 15,
      "metadata": {
        "id": "LdPg2J41NBX2"
      },
      "outputs": [],
      "source": [
        "train = []\n",
        "test=[]\n",
        "for i in range(int(round(len(timeSeriesDataset)/2))):\n",
        "    if i%10 < 8:\n",
        "        train.append(timeSeriesDataset[i])\n",
        "    else: test.append(timeSeriesDataset[i])\n",
        "del mono_sax\n",
        "del mono_mix"
      ]
    },
    {
      "cell_type": "code",
      "execution_count": 16,
      "metadata": {
        "id": "mA82GpRQNBX2"
      },
      "outputs": [
        {
          "name": "stdout",
          "output_type": "stream",
          "text": [
            "WARNING:tensorflow:From C:\\Users\\Kevin\\AppData\\Local\\Packages\\PythonSoftwareFoundation.Python.3.11_qbz5n2kfra8p0\\LocalCache\\local-packages\\Python311\\site-packages\\keras\\src\\losses.py:2976: The name tf.losses.sparse_softmax_cross_entropy is deprecated. Please use tf.compat.v1.losses.sparse_softmax_cross_entropy instead.\n",
            "\n"
          ]
        }
      ],
      "source": [
        "import tensorflow as tf\n",
        "from tensorflow.keras.models import Sequential\n",
        "from tensorflow.keras.layers import Dense\n",
        "from tensorflow.keras.layers import LSTM\n",
        "from tensorflow.keras.layers import Dropout\n",
        "from tensorflow.keras.optimizers import Adam"
      ]
    },
    {
      "cell_type": "code",
      "execution_count": 17,
      "metadata": {
        "id": "8oHLXpASNBX3"
      },
      "outputs": [
        {
          "name": "stdout",
          "output_type": "stream",
          "text": [
            "WARNING:tensorflow:From C:\\Users\\Kevin\\AppData\\Local\\Packages\\PythonSoftwareFoundation.Python.3.11_qbz5n2kfra8p0\\LocalCache\\local-packages\\Python311\\site-packages\\keras\\src\\backend.py:873: The name tf.get_default_graph is deprecated. Please use tf.compat.v1.get_default_graph instead.\n",
            "\n"
          ]
        }
      ],
      "source": [
        "batch = 256\n",
        "\n",
        "model=Sequential()\n",
        "model.add(LSTM(seq_len,batch_input_shape=(batch,seq_len,encoding)))\n",
        "model.add(Dropout(0.2))\n",
        "model.add(Dense(encoding,activation='sigmoid'))\n",
        "model.add(Dropout(0.2))\n",
        "model.add(Dense(encoding,activation='softmax'))"
      ]
    },
    {
      "cell_type": "code",
      "execution_count": 18,
      "metadata": {
        "id": "sDcMyZQlNBX3"
      },
      "outputs": [],
      "source": [
        "optimizer = Adam(learning_rate=0.0015)"
      ]
    },
    {
      "cell_type": "code",
      "execution_count": 19,
      "metadata": {
        "id": "DQsT9rRINBX4"
      },
      "outputs": [],
      "source": [
        "model.compile(loss='categorical_crossentropy', optimizer=optimizer, metrics=['accuracy'])"
      ]
    },
    {
      "cell_type": "code",
      "execution_count": 20,
      "metadata": {
        "id": "j6eTOxTNNBX4"
      },
      "outputs": [],
      "source": [
        "\n",
        "xtrain = []\n",
        "ytrain = []\n",
        "for x,y in train:\n",
        "    xtrain.append(x)\n",
        "    ytrain.append(y)\n",
        "xval = []\n",
        "yval = []\n",
        "for x,y in test:\n",
        "    xval.append(x)\n",
        "    yval.append(y)\n",
        "del train\n",
        "del test\n",
        "xtrain = np.array(xtrain)\n",
        "ytrain = np.array(ytrain)\n",
        "xval = np.array(xval)\n",
        "yval = np.array(yval)"
      ]
    },
    {
      "cell_type": "code",
      "execution_count": 20,
      "metadata": {
        "id": "fzi2QIwnNBX4"
      },
      "outputs": [
        {
          "name": "stdout",
          "output_type": "stream",
          "text": [
            "Epoch 1/150\n",
            "WARNING:tensorflow:From C:\\Users\\Kevin\\AppData\\Local\\Packages\\PythonSoftwareFoundation.Python.3.11_qbz5n2kfra8p0\\LocalCache\\local-packages\\Python311\\site-packages\\keras\\src\\utils\\tf_utils.py:492: The name tf.ragged.RaggedTensorValue is deprecated. Please use tf.compat.v1.ragged.RaggedTensorValue instead.\n",
            "\n",
            "WARNING:tensorflow:From C:\\Users\\Kevin\\AppData\\Local\\Packages\\PythonSoftwareFoundation.Python.3.11_qbz5n2kfra8p0\\LocalCache\\local-packages\\Python311\\site-packages\\keras\\src\\engine\\base_layer_utils.py:384: The name tf.executing_eagerly_outside_functions is deprecated. Please use tf.compat.v1.executing_eagerly_outside_functions instead.\n",
            "\n",
            "391/391 [==============================] - 70s 172ms/step - loss: 4.0335 - accuracy: 0.1115 - val_loss: 3.6364 - val_accuracy: 0.1274\n",
            "Epoch 2/150\n",
            "391/391 [==============================] - 62s 159ms/step - loss: 3.5021 - accuracy: 0.1427 - val_loss: 3.3276 - val_accuracy: 0.1598\n",
            "Epoch 3/150\n",
            "391/391 [==============================] - 62s 159ms/step - loss: 3.2361 - accuracy: 0.1649 - val_loss: 3.4868 - val_accuracy: 0.1638\n",
            "Epoch 4/150\n",
            "391/391 [==============================] - 62s 159ms/step - loss: 3.1957 - accuracy: 0.1737 - val_loss: 2.9039 - val_accuracy: 0.1962\n",
            "Epoch 5/150\n",
            "391/391 [==============================] - 62s 159ms/step - loss: 2.8274 - accuracy: 0.2065 - val_loss: 2.6679 - val_accuracy: 0.2183\n",
            "Epoch 6/150\n",
            "391/391 [==============================] - 62s 159ms/step - loss: 2.6148 - accuracy: 0.2279 - val_loss: 2.5329 - val_accuracy: 0.2288\n",
            "Epoch 7/150\n",
            "391/391 [==============================] - 62s 160ms/step - loss: 2.5064 - accuracy: 0.2413 - val_loss: 2.4632 - val_accuracy: 0.2389\n",
            "Epoch 8/150\n",
            "391/391 [==============================] - 63s 161ms/step - loss: 2.3684 - accuracy: 0.2570 - val_loss: 2.2931 - val_accuracy: 0.2641\n",
            "Epoch 9/150\n",
            "391/391 [==============================] - 62s 159ms/step - loss: 2.3041 - accuracy: 0.2652 - val_loss: 2.2409 - val_accuracy: 0.2800\n",
            "Epoch 10/150\n",
            "391/391 [==============================] - 62s 159ms/step - loss: 2.2144 - accuracy: 0.2799 - val_loss: 2.1301 - val_accuracy: 0.2961\n",
            "Epoch 11/150\n",
            "391/391 [==============================] - 64s 163ms/step - loss: 2.1459 - accuracy: 0.2940 - val_loss: 2.1096 - val_accuracy: 0.2946\n",
            "Epoch 12/150\n",
            "391/391 [==============================] - 63s 160ms/step - loss: 2.0890 - accuracy: 0.3055 - val_loss: 2.0618 - val_accuracy: 0.3039\n",
            "Epoch 13/150\n",
            "391/391 [==============================] - 62s 160ms/step - loss: 2.0232 - accuracy: 0.3195 - val_loss: 1.9415 - val_accuracy: 0.3407\n",
            "Epoch 14/150\n",
            "391/391 [==============================] - 63s 161ms/step - loss: 1.9891 - accuracy: 0.3272 - val_loss: 1.9514 - val_accuracy: 0.3348\n",
            "Epoch 15/150\n",
            "391/391 [==============================] - 62s 159ms/step - loss: 2.0369 - accuracy: 0.3225 - val_loss: 1.8957 - val_accuracy: 0.3508\n",
            "Epoch 16/150\n",
            "391/391 [==============================] - 62s 159ms/step - loss: 2.0480 - accuracy: 0.3230 - val_loss: 2.0780 - val_accuracy: 0.3037\n",
            "Epoch 17/150\n",
            "391/391 [==============================] - 62s 159ms/step - loss: 1.9384 - accuracy: 0.3408 - val_loss: 1.8441 - val_accuracy: 0.3606\n",
            "Epoch 18/150\n",
            "391/391 [==============================] - 62s 159ms/step - loss: 1.8581 - accuracy: 0.3564 - val_loss: 1.7957 - val_accuracy: 0.3688\n",
            "Epoch 19/150\n",
            "391/391 [==============================] - 62s 159ms/step - loss: 1.8119 - accuracy: 0.3662 - val_loss: 1.7778 - val_accuracy: 0.3723\n",
            "Epoch 20/150\n",
            "391/391 [==============================] - 62s 159ms/step - loss: 1.7856 - accuracy: 0.3703 - val_loss: 1.7389 - val_accuracy: 0.3849\n",
            "Epoch 21/150\n",
            "391/391 [==============================] - 62s 159ms/step - loss: 1.7500 - accuracy: 0.3809 - val_loss: 1.6900 - val_accuracy: 0.4015\n",
            "Epoch 22/150\n",
            "391/391 [==============================] - 62s 159ms/step - loss: 1.7276 - accuracy: 0.3862 - val_loss: 1.7842 - val_accuracy: 0.3724\n",
            "Epoch 23/150\n",
            "391/391 [==============================] - 62s 159ms/step - loss: 1.6944 - accuracy: 0.3939 - val_loss: 1.6533 - val_accuracy: 0.4039\n",
            "Epoch 24/150\n",
            "391/391 [==============================] - 62s 159ms/step - loss: 1.6781 - accuracy: 0.4001 - val_loss: 1.6324 - val_accuracy: 0.4150\n",
            "Epoch 25/150\n",
            "391/391 [==============================] - 62s 158ms/step - loss: 1.6365 - accuracy: 0.4086 - val_loss: 1.6071 - val_accuracy: 0.4180\n",
            "Epoch 26/150\n",
            "391/391 [==============================] - 62s 159ms/step - loss: 1.6226 - accuracy: 0.4139 - val_loss: 1.6189 - val_accuracy: 0.4082\n",
            "Epoch 27/150\n",
            "391/391 [==============================] - 62s 159ms/step - loss: 1.5916 - accuracy: 0.4219 - val_loss: 1.5513 - val_accuracy: 0.4333\n",
            "Epoch 28/150\n",
            "391/391 [==============================] - 62s 159ms/step - loss: 1.5737 - accuracy: 0.4263 - val_loss: 1.5785 - val_accuracy: 0.4320\n",
            "Epoch 29/150\n",
            "391/391 [==============================] - 62s 158ms/step - loss: 1.5616 - accuracy: 0.4298 - val_loss: 1.5269 - val_accuracy: 0.4384\n",
            "Epoch 30/150\n",
            "391/391 [==============================] - 62s 159ms/step - loss: 1.5344 - accuracy: 0.4372 - val_loss: 1.5257 - val_accuracy: 0.4285\n",
            "Epoch 31/150\n",
            "391/391 [==============================] - 62s 159ms/step - loss: 1.5130 - accuracy: 0.4409 - val_loss: 1.4655 - val_accuracy: 0.4560\n",
            "Epoch 32/150\n",
            "391/391 [==============================] - 62s 159ms/step - loss: 1.4878 - accuracy: 0.4499 - val_loss: 1.4741 - val_accuracy: 0.4554\n",
            "Epoch 33/150\n",
            "391/391 [==============================] - 62s 159ms/step - loss: 1.4891 - accuracy: 0.4491 - val_loss: 1.4312 - val_accuracy: 0.4651\n",
            "Epoch 34/150\n",
            "391/391 [==============================] - 62s 159ms/step - loss: 1.4622 - accuracy: 0.4570 - val_loss: 1.5034 - val_accuracy: 0.4457\n",
            "Epoch 35/150\n",
            "391/391 [==============================] - 62s 159ms/step - loss: 1.4590 - accuracy: 0.4582 - val_loss: 1.4167 - val_accuracy: 0.4715\n",
            "Epoch 36/150\n",
            "391/391 [==============================] - 62s 159ms/step - loss: 1.4435 - accuracy: 0.4632 - val_loss: 1.4040 - val_accuracy: 0.4739\n",
            "Epoch 37/150\n",
            "391/391 [==============================] - 62s 158ms/step - loss: 1.4400 - accuracy: 0.4624 - val_loss: 1.4321 - val_accuracy: 0.4594\n",
            "Epoch 38/150\n",
            "391/391 [==============================] - 62s 159ms/step - loss: 1.4124 - accuracy: 0.4729 - val_loss: 1.3917 - val_accuracy: 0.4753\n",
            "Epoch 39/150\n",
            "391/391 [==============================] - 62s 159ms/step - loss: 1.3877 - accuracy: 0.4785 - val_loss: 1.3981 - val_accuracy: 0.4775\n",
            "Epoch 40/150\n",
            "391/391 [==============================] - 62s 159ms/step - loss: 1.3865 - accuracy: 0.4796 - val_loss: 1.3684 - val_accuracy: 0.4879\n",
            "Epoch 41/150\n",
            "391/391 [==============================] - 62s 159ms/step - loss: 1.3783 - accuracy: 0.4824 - val_loss: 1.5131 - val_accuracy: 0.4409\n",
            "Epoch 42/150\n",
            "391/391 [==============================] - 62s 159ms/step - loss: 1.3832 - accuracy: 0.4807 - val_loss: 1.3588 - val_accuracy: 0.4827\n",
            "Epoch 43/150\n",
            "391/391 [==============================] - 62s 159ms/step - loss: 1.3536 - accuracy: 0.4869 - val_loss: 1.4079 - val_accuracy: 0.4707\n",
            "Epoch 44/150\n",
            "391/391 [==============================] - 62s 158ms/step - loss: 1.3318 - accuracy: 0.4952 - val_loss: 1.3180 - val_accuracy: 0.5032\n",
            "Epoch 45/150\n",
            "391/391 [==============================] - 62s 159ms/step - loss: 1.3464 - accuracy: 0.4915 - val_loss: 1.3342 - val_accuracy: 0.4967\n",
            "Epoch 46/150\n",
            "391/391 [==============================] - 62s 159ms/step - loss: 1.3292 - accuracy: 0.4972 - val_loss: 1.3531 - val_accuracy: 0.4830\n",
            "Epoch 47/150\n",
            "391/391 [==============================] - 62s 159ms/step - loss: 1.3291 - accuracy: 0.4980 - val_loss: 1.4084 - val_accuracy: 0.4696\n",
            "Epoch 48/150\n",
            "391/391 [==============================] - 62s 159ms/step - loss: 1.3003 - accuracy: 0.5047 - val_loss: 1.3210 - val_accuracy: 0.4997\n",
            "Epoch 49/150\n",
            "391/391 [==============================] - 62s 159ms/step - loss: 1.2967 - accuracy: 0.5059 - val_loss: 1.3176 - val_accuracy: 0.4958\n",
            "Epoch 50/150\n",
            "391/391 [==============================] - 62s 159ms/step - loss: 1.2919 - accuracy: 0.5097 - val_loss: 1.3087 - val_accuracy: 0.4991\n",
            "Epoch 51/150\n",
            "391/391 [==============================] - 62s 159ms/step - loss: 1.2936 - accuracy: 0.5091 - val_loss: 1.2872 - val_accuracy: 0.5128\n",
            "Epoch 52/150\n",
            "391/391 [==============================] - 62s 159ms/step - loss: 1.2689 - accuracy: 0.5142 - val_loss: 1.2958 - val_accuracy: 0.5051\n",
            "Epoch 53/150\n",
            "391/391 [==============================] - 62s 159ms/step - loss: 1.2679 - accuracy: 0.5154 - val_loss: 1.2398 - val_accuracy: 0.5223\n",
            "Epoch 54/150\n",
            "391/391 [==============================] - 62s 158ms/step - loss: 1.2582 - accuracy: 0.5194 - val_loss: 1.2495 - val_accuracy: 0.5213\n",
            "Epoch 55/150\n",
            "391/391 [==============================] - 62s 159ms/step - loss: 1.2572 - accuracy: 0.5197 - val_loss: 1.2817 - val_accuracy: 0.5090\n",
            "Epoch 56/150\n",
            "391/391 [==============================] - 62s 160ms/step - loss: 1.2537 - accuracy: 0.5228 - val_loss: 1.3260 - val_accuracy: 0.4977\n",
            "Epoch 57/150\n",
            "391/391 [==============================] - 62s 159ms/step - loss: 1.2315 - accuracy: 0.5266 - val_loss: 1.2681 - val_accuracy: 0.5148\n",
            "Epoch 58/150\n",
            "391/391 [==============================] - 62s 159ms/step - loss: 1.2292 - accuracy: 0.5297 - val_loss: 1.2172 - val_accuracy: 0.5275\n",
            "Epoch 59/150\n",
            "391/391 [==============================] - 62s 158ms/step - loss: 1.2168 - accuracy: 0.5319 - val_loss: 1.2263 - val_accuracy: 0.5251\n",
            "Epoch 60/150\n",
            "391/391 [==============================] - 62s 159ms/step - loss: 1.2142 - accuracy: 0.5309 - val_loss: 1.2567 - val_accuracy: 0.5143\n",
            "Epoch 61/150\n",
            "391/391 [==============================] - 62s 159ms/step - loss: 1.2229 - accuracy: 0.5306 - val_loss: 1.2696 - val_accuracy: 0.5024\n",
            "Epoch 62/150\n",
            "391/391 [==============================] - 62s 159ms/step - loss: 1.1970 - accuracy: 0.5386 - val_loss: 1.2473 - val_accuracy: 0.5225\n",
            "Epoch 63/150\n",
            "391/391 [==============================] - 62s 159ms/step - loss: 1.1959 - accuracy: 0.5392 - val_loss: 1.2259 - val_accuracy: 0.5261\n",
            "Epoch 64/150\n",
            "391/391 [==============================] - 62s 159ms/step - loss: 1.1945 - accuracy: 0.5411 - val_loss: 1.2113 - val_accuracy: 0.5316\n",
            "Epoch 65/150\n",
            "391/391 [==============================] - 62s 159ms/step - loss: 1.1869 - accuracy: 0.5443 - val_loss: 1.2058 - val_accuracy: 0.5350\n",
            "Epoch 66/150\n",
            "391/391 [==============================] - 62s 159ms/step - loss: 1.2344 - accuracy: 0.5354 - val_loss: 1.2713 - val_accuracy: 0.5136\n",
            "Epoch 67/150\n",
            "391/391 [==============================] - 62s 159ms/step - loss: 1.1605 - accuracy: 0.5533 - val_loss: 1.1994 - val_accuracy: 0.5400\n",
            "Epoch 68/150\n",
            "391/391 [==============================] - 62s 158ms/step - loss: 1.1791 - accuracy: 0.5460 - val_loss: 1.2301 - val_accuracy: 0.5295\n",
            "Epoch 69/150\n",
            "391/391 [==============================] - 62s 159ms/step - loss: 1.2099 - accuracy: 0.5387 - val_loss: 1.3632 - val_accuracy: 0.4936\n",
            "Epoch 70/150\n",
            "391/391 [==============================] - 62s 159ms/step - loss: 1.1636 - accuracy: 0.5514 - val_loss: 1.2111 - val_accuracy: 0.5374\n",
            "Epoch 71/150\n",
            "391/391 [==============================] - 62s 159ms/step - loss: 1.1534 - accuracy: 0.5555 - val_loss: 1.2406 - val_accuracy: 0.5297\n",
            "Epoch 72/150\n",
            "391/391 [==============================] - 65s 167ms/step - loss: 1.1586 - accuracy: 0.5524 - val_loss: 1.1699 - val_accuracy: 0.5459\n",
            "Epoch 73/150\n",
            "391/391 [==============================] - 63s 162ms/step - loss: 1.1583 - accuracy: 0.5560 - val_loss: 1.3068 - val_accuracy: 0.5069\n",
            "Epoch 74/150\n",
            "391/391 [==============================] - 63s 160ms/step - loss: 1.1417 - accuracy: 0.5606 - val_loss: 1.1777 - val_accuracy: 0.5467\n",
            "Epoch 75/150\n",
            "391/391 [==============================] - 63s 161ms/step - loss: 1.2159 - accuracy: 0.5467 - val_loss: 1.1572 - val_accuracy: 0.5480\n",
            "Epoch 76/150\n",
            "391/391 [==============================] - 62s 158ms/step - loss: 1.1217 - accuracy: 0.5643 - val_loss: 1.2029 - val_accuracy: 0.5366\n",
            "Epoch 77/150\n",
            "391/391 [==============================] - 62s 158ms/step - loss: 1.1323 - accuracy: 0.5617 - val_loss: 1.1352 - val_accuracy: 0.5611\n",
            "Epoch 78/150\n",
            "391/391 [==============================] - 62s 159ms/step - loss: 1.1186 - accuracy: 0.5654 - val_loss: 1.1616 - val_accuracy: 0.5465\n",
            "Epoch 79/150\n",
            "391/391 [==============================] - 62s 159ms/step - loss: 1.1158 - accuracy: 0.5681 - val_loss: 1.1840 - val_accuracy: 0.5397\n",
            "Epoch 80/150\n",
            "391/391 [==============================] - 62s 159ms/step - loss: 1.1136 - accuracy: 0.5688 - val_loss: 1.1620 - val_accuracy: 0.5451\n",
            "Epoch 81/150\n",
            "391/391 [==============================] - 63s 160ms/step - loss: 1.1141 - accuracy: 0.5685 - val_loss: 1.1281 - val_accuracy: 0.5590\n",
            "Epoch 82/150\n",
            "391/391 [==============================] - 62s 159ms/step - loss: 1.1614 - accuracy: 0.5587 - val_loss: 1.1758 - val_accuracy: 0.5443\n",
            "Epoch 83/150\n",
            "391/391 [==============================] - 62s 159ms/step - loss: 1.1387 - accuracy: 0.5617 - val_loss: 1.2084 - val_accuracy: 0.5305\n",
            "Epoch 84/150\n",
            "391/391 [==============================] - 62s 159ms/step - loss: 1.1169 - accuracy: 0.5696 - val_loss: 1.1280 - val_accuracy: 0.5596\n",
            "Epoch 85/150\n",
            "391/391 [==============================] - 62s 159ms/step - loss: 1.0848 - accuracy: 0.5777 - val_loss: 1.1485 - val_accuracy: 0.5561\n",
            "Epoch 86/150\n",
            "391/391 [==============================] - 62s 160ms/step - loss: 1.0841 - accuracy: 0.5790 - val_loss: 1.1459 - val_accuracy: 0.5543\n",
            "Epoch 87/150\n",
            "391/391 [==============================] - 64s 164ms/step - loss: 1.0954 - accuracy: 0.5759 - val_loss: 1.1570 - val_accuracy: 0.5543\n",
            "Epoch 88/150\n",
            "391/391 [==============================] - 63s 160ms/step - loss: 1.0768 - accuracy: 0.5826 - val_loss: 1.2070 - val_accuracy: 0.5354\n",
            "Epoch 89/150\n",
            "391/391 [==============================] - 62s 160ms/step - loss: 1.0783 - accuracy: 0.5824 - val_loss: 1.1311 - val_accuracy: 0.5611\n",
            "Epoch 90/150\n",
            "391/391 [==============================] - 62s 159ms/step - loss: 1.1090 - accuracy: 0.5742 - val_loss: 1.3220 - val_accuracy: 0.5101\n",
            "Epoch 91/150\n",
            "391/391 [==============================] - 62s 159ms/step - loss: 1.0969 - accuracy: 0.5758 - val_loss: 1.1039 - val_accuracy: 0.5664\n",
            "Epoch 92/150\n",
            "391/391 [==============================] - 62s 159ms/step - loss: 1.0718 - accuracy: 0.5854 - val_loss: 1.1659 - val_accuracy: 0.5519\n",
            "Epoch 93/150\n",
            "391/391 [==============================] - 62s 159ms/step - loss: 1.0584 - accuracy: 0.5877 - val_loss: 1.1194 - val_accuracy: 0.5583\n",
            "Epoch 94/150\n",
            "391/391 [==============================] - 62s 159ms/step - loss: 1.0681 - accuracy: 0.5854 - val_loss: 1.1137 - val_accuracy: 0.5645\n",
            "Epoch 95/150\n",
            "391/391 [==============================] - 62s 159ms/step - loss: 1.0462 - accuracy: 0.5918 - val_loss: 1.1292 - val_accuracy: 0.5607\n",
            "Epoch 96/150\n",
            "391/391 [==============================] - 62s 159ms/step - loss: 1.0466 - accuracy: 0.5920 - val_loss: 1.1627 - val_accuracy: 0.5553\n",
            "Epoch 97/150\n",
            "391/391 [==============================] - 63s 160ms/step - loss: 1.0516 - accuracy: 0.5913 - val_loss: 1.1168 - val_accuracy: 0.5662\n",
            "Epoch 98/150\n",
            "391/391 [==============================] - 62s 159ms/step - loss: 1.0644 - accuracy: 0.5913 - val_loss: 1.3062 - val_accuracy: 0.5275\n",
            "Epoch 99/150\n",
            "391/391 [==============================] - 62s 159ms/step - loss: 1.0622 - accuracy: 0.5898 - val_loss: 1.1191 - val_accuracy: 0.5634\n",
            "Epoch 100/150\n",
            "391/391 [==============================] - 62s 159ms/step - loss: 1.0258 - accuracy: 0.5988 - val_loss: 1.1943 - val_accuracy: 0.5455\n",
            "Epoch 101/150\n",
            "391/391 [==============================] - 62s 159ms/step - loss: 1.0287 - accuracy: 0.5993 - val_loss: 1.1467 - val_accuracy: 0.5559\n",
            "Epoch 102/150\n",
            "391/391 [==============================] - 62s 159ms/step - loss: 1.0917 - accuracy: 0.5818 - val_loss: 1.1283 - val_accuracy: 0.5551\n",
            "Epoch 103/150\n",
            "391/391 [==============================] - 62s 159ms/step - loss: 1.0286 - accuracy: 0.5993 - val_loss: 1.2141 - val_accuracy: 0.5449\n",
            "Epoch 104/150\n",
            "391/391 [==============================] - 62s 159ms/step - loss: 1.0300 - accuracy: 0.5996 - val_loss: 1.1224 - val_accuracy: 0.5647\n",
            "Epoch 105/150\n",
            "391/391 [==============================] - 62s 159ms/step - loss: 1.0164 - accuracy: 0.6040 - val_loss: 1.0706 - val_accuracy: 0.5794\n",
            "Epoch 106/150\n",
            "391/391 [==============================] - 62s 159ms/step - loss: 1.0160 - accuracy: 0.6011 - val_loss: 1.0927 - val_accuracy: 0.5749\n",
            "Epoch 107/150\n",
            "391/391 [==============================] - 62s 159ms/step - loss: 1.0057 - accuracy: 0.6075 - val_loss: 1.0937 - val_accuracy: 0.5732\n",
            "Epoch 108/150\n",
            "391/391 [==============================] - 62s 159ms/step - loss: 1.2906 - accuracy: 0.5511 - val_loss: 1.1135 - val_accuracy: 0.5624\n",
            "Epoch 109/150\n",
            "391/391 [==============================] - 62s 159ms/step - loss: 1.0054 - accuracy: 0.6078 - val_loss: 1.0798 - val_accuracy: 0.5772\n",
            "Epoch 110/150\n",
            "391/391 [==============================] - 62s 159ms/step - loss: 0.9940 - accuracy: 0.6112 - val_loss: 1.0612 - val_accuracy: 0.5827\n",
            "Epoch 111/150\n",
            "391/391 [==============================] - 62s 159ms/step - loss: 1.0098 - accuracy: 0.6072 - val_loss: 1.1219 - val_accuracy: 0.5639\n",
            "Epoch 112/150\n",
            "391/391 [==============================] - 62s 159ms/step - loss: 1.0148 - accuracy: 0.6054 - val_loss: 1.1175 - val_accuracy: 0.5666\n",
            "Epoch 113/150\n",
            "391/391 [==============================] - 62s 159ms/step - loss: 1.0302 - accuracy: 0.6000 - val_loss: 1.1165 - val_accuracy: 0.5659\n",
            "Epoch 114/150\n",
            "391/391 [==============================] - 62s 159ms/step - loss: 1.0130 - accuracy: 0.6070 - val_loss: 1.0577 - val_accuracy: 0.5827\n",
            "Epoch 115/150\n",
            "391/391 [==============================] - 62s 159ms/step - loss: 0.9824 - accuracy: 0.6152 - val_loss: 1.0723 - val_accuracy: 0.5754\n",
            "Epoch 116/150\n",
            "391/391 [==============================] - 62s 159ms/step - loss: 1.0139 - accuracy: 0.6066 - val_loss: 1.0997 - val_accuracy: 0.5686\n",
            "Epoch 117/150\n",
            "391/391 [==============================] - 62s 159ms/step - loss: 0.9903 - accuracy: 0.6123 - val_loss: 1.0955 - val_accuracy: 0.5730\n",
            "Epoch 118/150\n",
            "391/391 [==============================] - 62s 159ms/step - loss: 0.9993 - accuracy: 0.6102 - val_loss: 1.1053 - val_accuracy: 0.5730\n",
            "Epoch 119/150\n",
            "391/391 [==============================] - 64s 165ms/step - loss: 0.9745 - accuracy: 0.6202 - val_loss: 1.0985 - val_accuracy: 0.5714\n",
            "Epoch 120/150\n",
            "391/391 [==============================] - 62s 160ms/step - loss: 0.9966 - accuracy: 0.6102 - val_loss: 1.1314 - val_accuracy: 0.5663\n",
            "Epoch 121/150\n",
            "391/391 [==============================] - 62s 159ms/step - loss: 0.9799 - accuracy: 0.6182 - val_loss: 1.0807 - val_accuracy: 0.5782\n",
            "Epoch 122/150\n",
            "391/391 [==============================] - 63s 160ms/step - loss: 0.9828 - accuracy: 0.6176 - val_loss: 1.0940 - val_accuracy: 0.5733\n",
            "Epoch 123/150\n",
            "391/391 [==============================] - 62s 159ms/step - loss: 0.9740 - accuracy: 0.6197 - val_loss: 1.1072 - val_accuracy: 0.5745\n",
            "Epoch 124/150\n",
            "391/391 [==============================] - 62s 159ms/step - loss: 0.9710 - accuracy: 0.6187 - val_loss: 1.1198 - val_accuracy: 0.5664\n",
            "Epoch 125/150\n",
            "391/391 [==============================] - 62s 159ms/step - loss: 0.9855 - accuracy: 0.6172 - val_loss: 1.0607 - val_accuracy: 0.5862\n",
            "Epoch 126/150\n",
            "391/391 [==============================] - 62s 159ms/step - loss: 0.9647 - accuracy: 0.6209 - val_loss: 1.0845 - val_accuracy: 0.5779\n",
            "Epoch 127/150\n",
            "391/391 [==============================] - 62s 159ms/step - loss: 0.9790 - accuracy: 0.6199 - val_loss: 1.0829 - val_accuracy: 0.5824\n",
            "Epoch 128/150\n",
            "391/391 [==============================] - 62s 159ms/step - loss: 0.9625 - accuracy: 0.6239 - val_loss: 1.1139 - val_accuracy: 0.5674\n",
            "Epoch 129/150\n",
            "391/391 [==============================] - 62s 159ms/step - loss: 1.0753 - accuracy: 0.6070 - val_loss: 1.8375 - val_accuracy: 0.4485\n",
            "Epoch 130/150\n",
            "391/391 [==============================] - 63s 161ms/step - loss: 1.3818 - accuracy: 0.5291 - val_loss: 1.1099 - val_accuracy: 0.5684\n",
            "Epoch 131/150\n",
            "391/391 [==============================] - 62s 159ms/step - loss: 0.9825 - accuracy: 0.6199 - val_loss: 1.0646 - val_accuracy: 0.5851\n",
            "Epoch 132/150\n",
            "391/391 [==============================] - 62s 159ms/step - loss: 0.9427 - accuracy: 0.6301 - val_loss: 1.0463 - val_accuracy: 0.5890\n",
            "Epoch 133/150\n",
            "391/391 [==============================] - 62s 159ms/step - loss: 0.9392 - accuracy: 0.6315 - val_loss: 1.0558 - val_accuracy: 0.5851\n",
            "Epoch 134/150\n",
            "391/391 [==============================] - 62s 159ms/step - loss: 0.9364 - accuracy: 0.6322 - val_loss: 1.1254 - val_accuracy: 0.5712\n",
            "Epoch 135/150\n",
            "391/391 [==============================] - 62s 159ms/step - loss: 0.9432 - accuracy: 0.6296 - val_loss: 1.0335 - val_accuracy: 0.5925\n",
            "Epoch 136/150\n",
            "391/391 [==============================] - 62s 159ms/step - loss: 0.9410 - accuracy: 0.6295 - val_loss: 1.0780 - val_accuracy: 0.5807\n",
            "Epoch 137/150\n",
            "391/391 [==============================] - 62s 159ms/step - loss: 0.9512 - accuracy: 0.6272 - val_loss: 1.0424 - val_accuracy: 0.5871\n",
            "Epoch 138/150\n",
            "391/391 [==============================] - 62s 159ms/step - loss: 0.9381 - accuracy: 0.6311 - val_loss: 1.0396 - val_accuracy: 0.5924\n",
            "Epoch 139/150\n",
            "391/391 [==============================] - 62s 159ms/step - loss: 0.9284 - accuracy: 0.6348 - val_loss: 1.0572 - val_accuracy: 0.5890\n",
            "Epoch 140/150\n",
            "391/391 [==============================] - 62s 159ms/step - loss: 0.9488 - accuracy: 0.6295 - val_loss: 1.0504 - val_accuracy: 0.5893\n",
            "Epoch 141/150\n",
            "391/391 [==============================] - 62s 159ms/step - loss: 0.9390 - accuracy: 0.6312 - val_loss: 1.0732 - val_accuracy: 0.5816\n",
            "Epoch 142/150\n",
            "391/391 [==============================] - 62s 159ms/step - loss: 0.9618 - accuracy: 0.6287 - val_loss: 1.1215 - val_accuracy: 0.5709\n",
            "Epoch 143/150\n",
            "391/391 [==============================] - 62s 160ms/step - loss: 0.9552 - accuracy: 0.6288 - val_loss: 1.0629 - val_accuracy: 0.5851\n",
            "Epoch 144/150\n",
            "391/391 [==============================] - 62s 159ms/step - loss: 0.9348 - accuracy: 0.6342 - val_loss: 1.0679 - val_accuracy: 0.5848\n",
            "Epoch 145/150\n",
            "391/391 [==============================] - 62s 159ms/step - loss: 1.1540 - accuracy: 0.5908 - val_loss: 1.0482 - val_accuracy: 0.5911\n",
            "Epoch 146/150\n",
            "391/391 [==============================] - 62s 159ms/step - loss: 0.9425 - accuracy: 0.6369 - val_loss: 1.0366 - val_accuracy: 0.5925\n",
            "Epoch 147/150\n",
            "391/391 [==============================] - 62s 159ms/step - loss: 0.9597 - accuracy: 0.6324 - val_loss: 1.1356 - val_accuracy: 0.5703\n",
            "Epoch 148/150\n",
            "391/391 [==============================] - 62s 159ms/step - loss: 0.9767 - accuracy: 0.6263 - val_loss: 1.1055 - val_accuracy: 0.5758\n",
            "Epoch 149/150\n",
            "391/391 [==============================] - 62s 159ms/step - loss: 0.9146 - accuracy: 0.6407 - val_loss: 1.0708 - val_accuracy: 0.5866\n",
            "Epoch 150/150\n",
            "391/391 [==============================] - 62s 159ms/step - loss: 0.9252 - accuracy: 0.6391 - val_loss: 1.1616 - val_accuracy: 0.5643\n"
          ]
        }
      ],
      "source": [
        "history = model.fit(xtrain,ytrain, epochs=150, batch_size=batch, validation_data=(xval, yval))"
      ]
    },
    {
      "cell_type": "code",
      "execution_count": 21,
      "metadata": {
        "id": "Xh0I_ZxYYcgA"
      },
      "outputs": [
        {
          "name": "stdout",
          "output_type": "stream",
          "text": [
            "{'loss': [4.0334696769714355, 3.502079486846924, 3.2361154556274414, 3.195666551589966, 2.827388048171997, 2.6147663593292236, 2.506389856338501, 2.368381977081299, 2.304142951965332, 2.2143657207489014, 2.145925521850586, 2.0889832973480225, 2.023216962814331, 1.9890762567520142, 2.036853551864624, 2.047992706298828, 1.9384170770645142, 1.8580551147460938, 1.811912178993225, 1.7855795621871948, 1.7500234842300415, 1.7275506258010864, 1.6943705081939697, 1.6781020164489746, 1.6365121603012085, 1.6225569248199463, 1.5916095972061157, 1.5736883878707886, 1.561635971069336, 1.5344434976577759, 1.513034462928772, 1.4878169298171997, 1.4890754222869873, 1.4622009992599487, 1.4590260982513428, 1.4435185194015503, 1.4399901628494263, 1.4123767614364624, 1.3877185583114624, 1.3865402936935425, 1.3782811164855957, 1.3832131624221802, 1.3536350727081299, 1.3317664861679077, 1.3463733196258545, 1.329154372215271, 1.3290979862213135, 1.3003442287445068, 1.2966686487197876, 1.2919316291809082, 1.2936127185821533, 1.2689141035079956, 1.2678632736206055, 1.2582478523254395, 1.2572081089019775, 1.2536767721176147, 1.2314954996109009, 1.2291746139526367, 1.216776728630066, 1.2141844034194946, 1.2229397296905518, 1.197020173072815, 1.1959397792816162, 1.1944794654846191, 1.186886191368103, 1.2343798875808716, 1.1604539155960083, 1.1790826320648193, 1.2098689079284668, 1.1635527610778809, 1.1534295082092285, 1.1585558652877808, 1.1583263874053955, 1.1417020559310913, 1.215877652168274, 1.1217169761657715, 1.132336139678955, 1.1186293363571167, 1.1158030033111572, 1.1135538816452026, 1.1140965223312378, 1.1614418029785156, 1.138705849647522, 1.1168830394744873, 1.0848298072814941, 1.0840662717819214, 1.0953720808029175, 1.0768098831176758, 1.0783101320266724, 1.1089564561843872, 1.0968881845474243, 1.0717970132827759, 1.0584138631820679, 1.0680642127990723, 1.0461773872375488, 1.0466476678848267, 1.051637053489685, 1.0644017457962036, 1.062209129333496, 1.0257937908172607, 1.0287401676177979, 1.091698169708252, 1.028579831123352, 1.0299798250198364, 1.0163787603378296, 1.015997290611267, 1.0057358741760254, 1.290564775466919, 1.0053884983062744, 0.9940487146377563, 1.0097960233688354, 1.0147837400436401, 1.030227780342102, 1.0130133628845215, 0.9823685884475708, 1.0139349699020386, 0.9902971982955933, 0.9993430972099304, 0.9744839668273926, 0.9966379404067993, 0.9799327254295349, 0.982796847820282, 0.9740486741065979, 0.9710423946380615, 0.9854812622070312, 0.9647439122200012, 0.978978157043457, 0.9625420570373535, 1.0752887725830078, 1.3817706108093262, 0.9825499653816223, 0.9426883459091187, 0.9391816854476929, 0.9363672733306885, 0.9432212710380554, 0.9410425424575806, 0.9511805176734924, 0.9380955100059509, 0.9284330606460571, 0.9487622976303101, 0.9390495419502258, 0.9617592096328735, 0.9551939368247986, 0.9347677230834961, 1.1540077924728394, 0.9424610733985901, 0.9597386121749878, 0.976711094379425, 0.9145736694335938, 0.9252058267593384], 'accuracy': [0.11148574203252792, 0.14273136854171753, 0.16486242413520813, 0.17365682125091553, 0.20652325451374054, 0.22786393761634827, 0.2413206547498703, 0.25700849294662476, 0.2651625871658325, 0.279869943857193, 0.2940270006656647, 0.305472731590271, 0.31947973370552063, 0.3272436261177063, 0.3225012421607971, 0.3230215013027191, 0.340800404548645, 0.3563581705093384, 0.3662131130695343, 0.37034517526626587, 0.3809204697608948, 0.38622310757637024, 0.3939169645309448, 0.40008002519607544, 0.40857428312301636, 0.4138769507408142, 0.4218909442424774, 0.4262831509113312, 0.4297748804092407, 0.43718859553337097, 0.4408704340457916, 0.44986492395401, 0.4490945339202881, 0.45695847272872925, 0.45821911096572876, 0.46318158507347107, 0.462391197681427, 0.47285643219947815, 0.4785192608833313, 0.4795597791671753, 0.48239120841026306, 0.48074036836624146, 0.4869234561920166, 0.4951675832271576, 0.4914957582950592, 0.49719861149787903, 0.4980490207672119, 0.5046523213386536, 0.5059229731559753, 0.5096648335456848, 0.5091045498847961, 0.5141971111297607, 0.5153977274894714, 0.5194197297096252, 0.5197098255157471, 0.5227713584899902, 0.5265932679176331, 0.5297448635101318, 0.5319059491157532, 0.5309054255485535, 0.5305953025817871, 0.5386393070220947, 0.5392096042633057, 0.5411005616188049, 0.5443421602249146, 0.5353876948356628, 0.5533166527748108, 0.5460129976272583, 0.5387093424797058, 0.5513857007026672, 0.5555277466773987, 0.5524262189865112, 0.5560480356216431, 0.5605602860450745, 0.5467433929443359, 0.564342200756073, 0.5616908669471741, 0.5654327273368835, 0.5680740475654602, 0.5688444375991821, 0.568504273891449, 0.5586693286895752, 0.5616908669471741, 0.5696448087692261, 0.5777188539505005, 0.5789694786071777, 0.5759479999542236, 0.5826113224029541, 0.5824311971664429, 0.5741971135139465, 0.5758379101753235, 0.5853927135467529, 0.5876838564872742, 0.5854126811027527, 0.5918158888816833, 0.5919559597969055, 0.5912856459617615, 0.5913456678390503, 0.5898048877716064, 0.5988094210624695, 0.5993496775627136, 0.5817608833312988, 0.5993296504020691, 0.5995798110961914, 0.6039719581604004, 0.6011205315589905, 0.6074737310409546, 0.5511355400085449, 0.6077938675880432, 0.6112456321716309, 0.6071935892105103, 0.6054127216339111, 0.6000199913978577, 0.606953501701355, 0.6151675581932068, 0.6066333055496216, 0.6123161315917969, 0.6101850867271423, 0.620150089263916, 0.6102451086044312, 0.6181991100311279, 0.6175888180732727, 0.6196898221969604, 0.618669331073761, 0.6171686053276062, 0.6208804249763489, 0.619879961013794, 0.6238519549369812, 0.6069934964179993, 0.5290545225143433, 0.6199199557304382, 0.6301050782203674, 0.6314857602119446, 0.6321861147880554, 0.629584789276123, 0.6295247673988342, 0.6271935701370239, 0.6310855150222778, 0.6347973942756653, 0.6294647455215454, 0.6312255859375, 0.6286943554878235, 0.6288143992424011, 0.6342170834541321, 0.5908454060554504, 0.6369484663009644, 0.6324462294578552, 0.6262831687927246, 0.6407403945922852, 0.6390795111656189], 'val_loss': [3.636364698410034, 3.3276450634002686, 3.48679256439209, 2.9038801193237305, 2.667922258377075, 2.5328569412231445, 2.463226795196533, 2.2931079864501953, 2.2409279346466064, 2.1300628185272217, 2.1096296310424805, 2.061817169189453, 1.9414856433868408, 1.9513626098632812, 1.8957207202911377, 2.0780107975006104, 1.8440701961517334, 1.7957230806350708, 1.7778245210647583, 1.7389427423477173, 1.6900469064712524, 1.784164547920227, 1.6532789468765259, 1.6324275732040405, 1.6070966720581055, 1.6189234256744385, 1.551274061203003, 1.5784695148468018, 1.5268642902374268, 1.5256516933441162, 1.4654872417449951, 1.47409188747406, 1.4311965703964233, 1.5034024715423584, 1.4166958332061768, 1.4040460586547852, 1.432090401649475, 1.3917382955551147, 1.3981181383132935, 1.368359923362732, 1.5130568742752075, 1.3587692975997925, 1.407909870147705, 1.3179852962493896, 1.3342204093933105, 1.353097677230835, 1.4083927869796753, 1.3210201263427734, 1.3175667524337769, 1.3087341785430908, 1.287182092666626, 1.295804500579834, 1.2397814989089966, 1.2494665384292603, 1.2817003726959229, 1.3260403871536255, 1.2681021690368652, 1.2171634435653687, 1.2262659072875977, 1.2566845417022705, 1.2696037292480469, 1.247328519821167, 1.225921392440796, 1.2112795114517212, 1.2058179378509521, 1.2712563276290894, 1.1994342803955078, 1.2301405668258667, 1.3631973266601562, 1.2110706567764282, 1.2406485080718994, 1.1698873043060303, 1.306777834892273, 1.1776877641677856, 1.1572349071502686, 1.2028709650039673, 1.1351763010025024, 1.1615514755249023, 1.1840485334396362, 1.162041425704956, 1.128132700920105, 1.1758240461349487, 1.2084481716156006, 1.1280055046081543, 1.14847993850708, 1.1459238529205322, 1.1569956541061401, 1.2070232629776, 1.1311371326446533, 1.3220155239105225, 1.1039224863052368, 1.16592538356781, 1.1194368600845337, 1.1136751174926758, 1.129171371459961, 1.162711262702942, 1.1168441772460938, 1.3062201738357544, 1.1190588474273682, 1.194319486618042, 1.1467206478118896, 1.1282882690429688, 1.214120864868164, 1.1224313974380493, 1.0705714225769043, 1.0927225351333618, 1.093711495399475, 1.113497257232666, 1.0797723531723022, 1.0612459182739258, 1.1219167709350586, 1.1174944639205933, 1.1164546012878418, 1.057748794555664, 1.0723423957824707, 1.0997488498687744, 1.095497488975525, 1.1052517890930176, 1.0984680652618408, 1.1314473152160645, 1.080747127532959, 1.0939993858337402, 1.107189416885376, 1.119774580001831, 1.0607422590255737, 1.0844513177871704, 1.082947850227356, 1.113889455795288, 1.8374875783920288, 1.1098655462265015, 1.06462562084198, 1.0462734699249268, 1.0558056831359863, 1.1253647804260254, 1.033487319946289, 1.077953577041626, 1.0423752069473267, 1.0395774841308594, 1.0572235584259033, 1.050362229347229, 1.0731743574142456, 1.1214590072631836, 1.0628527402877808, 1.0678755044937134, 1.048200011253357, 1.0366421937942505, 1.1355509757995605, 1.1055058240890503, 1.0708448886871338, 1.1616286039352417], 'val_accuracy': [0.127351313829422, 0.15980949997901917, 0.16381172835826874, 0.19622988998889923, 0.21828223764896393, 0.22876811027526855, 0.23893380165100098, 0.2640678882598877, 0.2799968123435974, 0.29608580470085144, 0.29460498690605164, 0.3039301931858063, 0.34067076444625854, 0.3348275125026703, 0.35075643658638, 0.30365005135536194, 0.3606419563293457, 0.3688465654850006, 0.3723284900188446, 0.38489553332328796, 0.4014648199081421, 0.3723685145378113, 0.4039061963558197, 0.41499239206314087, 0.4180341064929962, 0.4081885814666748, 0.4333226680755615, 0.43200191855430603, 0.43840551376342773, 0.428479939699173, 0.45597535371780396, 0.4553750157356262, 0.4651004672050476, 0.4456895887851715, 0.4715040326118469, 0.47394540905952454, 0.45941728353500366, 0.4753061830997467, 0.47750741243362427, 0.48791322112083435, 0.44088688492774963, 0.48267030715942383, 0.4707436263561249, 0.5031617879867554, 0.4966781437397003, 0.48295044898986816, 0.46962299942970276, 0.4997198283672333, 0.49583765864372253, 0.49911952018737793, 0.5128471851348877, 0.5050828456878662, 0.5222524404525757, 0.521251916885376, 0.5090450644493103, 0.4977187216281891, 0.5148082971572876, 0.5274553894996643, 0.5250540375709534, 0.5143280029296875, 0.5023612976074219, 0.5224925875663757, 0.5261346101760864, 0.5316177010536194, 0.5350196361541748, 0.5135676264762878, 0.5400224328041077, 0.5295365452766418, 0.49363642930984497, 0.537420928478241, 0.5297366380691528, 0.5459457039833069, 0.5068838596343994, 0.546666145324707, 0.5479868650436401, 0.5366204977035522, 0.5610741972923279, 0.5465060472488403, 0.5396621823310852, 0.5451452732086182, 0.5590330362319946, 0.5443047881126404, 0.5305371284484863, 0.5595933794975281, 0.5561113953590393, 0.5543104410171509, 0.5542703866958618, 0.5353798270225525, 0.5611142516136169, 0.5100856423377991, 0.5664371848106384, 0.5518690347671509, 0.558272659778595, 0.5645161271095276, 0.5606739521026611, 0.5553109645843506, 0.5661570429801941, 0.5274553894996643, 0.5634354948997498, 0.5454654693603516, 0.555871307849884, 0.5550708174705505, 0.5448651313781738, 0.5646762251853943, 0.5794044733047485, 0.574881911277771, 0.5732409954071045, 0.56243497133255, 0.5772432684898376, 0.5827262997627258, 0.5639157891273499, 0.5665972828865051, 0.5658769011497498, 0.5826863050460815, 0.5753622055053711, 0.5686384439468384, 0.5730009078979492, 0.5730409026145935, 0.5713599324226379, 0.5662770867347717, 0.5782037973403931, 0.5733210444450378, 0.5745217204093933, 0.5664371848106384, 0.5862082839012146, 0.5778836011886597, 0.5824061632156372, 0.5673577189445496, 0.4484911561012268, 0.568358302116394, 0.5850876569747925, 0.5890498757362366, 0.5851276516914368, 0.5712398886680603, 0.5924517512321472, 0.5807251930236816, 0.5871288180351257, 0.5923717021942139, 0.5890098214149475, 0.5892900228500366, 0.5815656781196594, 0.5709196925163269, 0.5850876569747925, 0.5847674608230591, 0.5910910367965698, 0.5924918055534363, 0.5703193545341492, 0.5758424997329712, 0.5865684747695923, 0.5643160343170166]}\n"
          ]
        }
      ],
      "source": [
        "print(history.history)"
      ]
    },
    {
      "cell_type": "code",
      "execution_count": 22,
      "metadata": {
        "id": "I926sJdCZBfV"
      },
      "outputs": [
        {
          "data": {
            "text/plain": [
              "<Axes: >"
            ]
          },
          "execution_count": 22,
          "metadata": {},
          "output_type": "execute_result"
        },
        {
          "data": {
            "image/png": "[encoded data removed]",
            "text/plain": [
              "<Figure size 800x500 with 1 Axes>"
            ]
          },
          "metadata": {},
          "output_type": "display_data"
        }
      ],
      "source": [
        "import matplotlib as plt\n",
        "import pandas as pd\n",
        "pd.DataFrame(history.history).plot(figsize=(8,5))"
      ]
    },
    {
      "cell_type": "code",
      "execution_count": 21,
      "metadata": {},
      "outputs": [],
      "source": [
        "del xtrain\n",
        "del ytrain\n",
        "del xval\n",
        "del yval"
      ]
    },
    {
      "cell_type": "code",
      "execution_count": 23,
      "metadata": {
        "id": "6-NppkbPyDPK"
      },
      "outputs": [],
      "source": [
        "model.save('D:\\\\Documents\\\\CPE590\\\\project\\\\tf_lstm\\\\model.keras')"
      ]
    },
    {
      "cell_type": "code",
      "execution_count": 22,
      "metadata": {
        "id": "WWboHsgd850Z"
      },
      "outputs": [],
      "source": [
        "model = tf.keras.models.load_model('D:\\\\Documents\\\\CPE590\\\\project\\\\tf_lstm\\\\model.keras')"
      ]
    },
    {
      "cell_type": "code",
      "execution_count": 23,
      "metadata": {},
      "outputs": [],
      "source": [
        "from tensorflow.math import argmax"
      ]
    },
    {
      "cell_type": "code",
      "execution_count": 25,
      "metadata": {},
      "outputs": [],
      "source": [
        "cleaned = []"
      ]
    },
    {
      "cell_type": "code",
      "execution_count": 26,
      "metadata": {},
      "outputs": [],
      "source": [
        "test_data = []\n",
        "for i in range(len(timeSeriesDataset)):\n",
        "    noised, baseline = timeSeriesDataset[i]\n",
        "    test_data.append(noised)\n",
        "test_data = np.array(test_data)"
      ]
    },
    {
      "cell_type": "code",
      "execution_count": 27,
      "metadata": {
        "id": "RurGWPQ9kIOf"
      },
      "outputs": [
        {
          "name": "stdout",
          "output_type": "stream",
          "text": [
            "7809/7809 [==============================] - 127s 16ms/step\n"
          ]
        }
      ],
      "source": [
        "out = model.predict(test_data)"
      ]
    },
    {
      "cell_type": "code",
      "execution_count": 28,
      "metadata": {},
      "outputs": [],
      "source": [
        "del test_data"
      ]
    },
    {
      "cell_type": "code",
      "execution_count": 31,
      "metadata": {},
      "outputs": [],
      "source": [
        "for i in range(len(out)):\n",
        "    cleaned.append(argmax(out[i]).numpy())"
      ]
    },
    {
      "cell_type": "code",
      "execution_count": 33,
      "metadata": {
        "id": "ZOaoJEA8m0tE"
      },
      "outputs": [],
      "source": [
        "cleaned_mu = np.zeros(len(cleaned),dtype=np.float32)\n",
        "for i in range(len(cleaned)):\n",
        "    cleaned_mu[i] = cleaned[i]"
      ]
    },
    {
      "cell_type": "code",
      "execution_count": 34,
      "metadata": {},
      "outputs": [],
      "source": [
        "del cleaned"
      ]
    },
    {
      "cell_type": "code",
      "execution_count": 35,
      "metadata": {
        "id": "MFsmHEMZmhpb"
      },
      "outputs": [],
      "source": [
        "cleaned_mu = mu_law_decoding(torch.from_numpy(cleaned_mu),encoding)"
      ]
    },
    {
      "cell_type": "code",
      "execution_count": 36,
      "metadata": {
        "id": "SVJCnkCUnm4J"
      },
      "outputs": [],
      "source": [
        "cleaned_mu = cleaned_mu.numpy()"
      ]
    },
    {
      "cell_type": "code",
      "execution_count": 38,
      "metadata": {
        "id": "zy8PspJq1t5-"
      },
      "outputs": [],
      "source": [
        "scaled = []\n",
        "for i in range(len(cleaned_mu)):\n",
        "  scaled.append(scaler.inverse_transform(cleaned_mu[i]))"
      ]
    },
    {
      "cell_type": "markdown",
      "metadata": {},
      "source": [
        "The predicted, decoded, and scaled output "
      ]
    },
    {
      "cell_type": "code",
      "execution_count": 40,
      "metadata": {
        "id": "j663OsH927nb"
      },
      "outputs": [
        {
          "data": {
            "image/png": "[encoded data removed]",
            "text/plain": [
              "<Figure size 640x480 with 1 Axes>"
            ]
          },
          "metadata": {},
          "output_type": "display_data"
        }
      ],
      "source": [
        "import matplotlib.pyplot as plt\n",
        "plt.plot(scaled)\n",
        "plt.title(\"Predicted Clean Audio From Audio With Noise\")\n",
        "plt.xlabel(\"Sample Number\")\n",
        "plt.ylabel(\"Sample Value\")\n",
        "plt.show()"
      ]
    },
    {
      "cell_type": "markdown",
      "metadata": {},
      "source": [
        "Target output "
      ]
    },
    {
      "cell_type": "code",
      "execution_count": 42,
      "metadata": {},
      "outputs": [],
      "source": [
        "scaled = np.array(scaled, dtype=np.int16)\n",
        "scipy.io.wavfile.write('predicted.wav',44100,scaled)"
      ]
    }
  ],
  "metadata": {
    "colab": {
      "provenance": []
    },
    "kernelspec": {
      "display_name": "Python 3",
      "name": "python3"
    },
    "language_info": {
      "codemirror_mode": {
        "name": "ipython",
        "version": 3
      },
      "file_extension": ".py",
      "mimetype": "text/x-python",
      "name": "python",
      "nbconvert_exporter": "python",
      "pygments_lexer": "ipython3",
      "version": "3.11.9"
    }
  },
  "nbformat": 4,
  "nbformat_minor": 0
}
